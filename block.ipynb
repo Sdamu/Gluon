{
 "cells": [
  {
   "cell_type": "markdown",
   "metadata": {
    "collapsed": true
   },
   "source": [
    "# 创建神经网络\n",
    "这个文档以及接下来的几个文档，主要介绍的是如何使用这两个类来进行定义神经网络、初始化参数、以及保存和读取模型"
   ]
  },
  {
   "cell_type": "code",
   "execution_count": 1,
   "metadata": {
    "collapsed": true
   },
   "outputs": [
    {
     "name": "stderr",
     "output_type": "stream",
     "text": [
      "E:\\APP\\Anaconda3\\envs\\tensorflow1\\lib\\site-packages\\h5py\\__init__.py:36: FutureWarning: Conversion of the second argument of issubdtype from `float` to `np.floating` is deprecated. In future, it will be treated as `np.float64 == np.dtype(float).type`.\n  from ._conv import register_converters as _register_converters\n"
     ]
    },
    {
     "name": "stdout",
     "output_type": "stream",
     "text": [
      "Sequential(\n  (0): Dense(None -> 256, Activation(relu))\n  (1): Dense(None -> 10, linear)\n)\n"
     ]
    }
   ],
   "source": [
    "from mxnet import nd\n",
    "from mxnet.gluon import nn\n",
    "\n",
    "net = nn.Sequential()\n",
    "with net.name_scope():\n",
    "    net.add(\n",
    "        nn.Dense(units=256, activation='relu'),\n",
    "        nn.Dense(units=10)\n",
    "    )\n",
    "\n",
    "print(net)\n"
   ]
  },
  {
   "cell_type": "markdown",
   "metadata": {},
   "source": [
    "# 使用 nn.Block 来定义\n",
    "事实上，nn.Sequential 是 nn.Block 的简单形式。首先来用 nn.Block 实现和上面同样的功能"
   ]
  },
  {
   "cell_type": "code",
   "execution_count": 2,
   "metadata": {},
   "outputs": [],
   "source": [
    "class MLP(nn.Block):\n",
    "    def __init__(self, **kwargs):\n",
    "        super(MLP, self).__init__(**kwargs)\n",
    "        with self.name_scope():\n",
    "            self.dense0 = nn.Dense(256)\n",
    "            self.dense1 = nn.Dense(10)\n",
    "            \n",
    "    def forward(self, x):\n",
    "        return self.dense1(nd.relu(self.dense0(x)))\n"
   ]
  },
  {
   "cell_type": "markdown",
   "metadata": {},
   "source": [
    "可以看到 nn.Block 的使用是通过创建一个它的自雷，其中至少包含了两个函数。\n",
    "- __init__: 创建参数。上面的例子中我们使用了包含了参数的 dense 层\n",
    "- forward(): 用来定义网络计算\n",
    "\n",
    "并且创建的类的使用和之前的 net 也并没有什么不同"
   ]
  },
  {
   "cell_type": "code",
   "execution_count": 4,
   "metadata": {
    "collapsed": true
   },
   "outputs": [
    {
     "name": "stdout",
     "output_type": "stream",
     "text": [
      "MLP(\n  (dense0): Dense(None -> 256, linear)\n  (dense1): Dense(None -> 10, linear)\n)\n"
     ]
    },
    {
     "data": {
      "text/plain": [
       "\n[[ 0.01461641 -0.0089294  -0.07906897  0.07768989 -0.12873693 -0.01952744\n  -0.13175528 -0.03132879  0.0363337  -0.08520765]\n [-0.05594679  0.00822184 -0.05789109  0.07252695 -0.11979484  0.00889583\n  -0.19506356 -0.03687808  0.03777978 -0.11160932]\n [ 0.03809929  0.00328241 -0.0902581   0.06271226 -0.11470574 -0.0103777\n  -0.07336813 -0.01885033  0.05428999 -0.07302649]\n [-0.00901174  0.0103955  -0.07959956  0.10375699 -0.13731928 -0.0023221\n  -0.17693904 -0.06660189  0.06440312 -0.0798894 ]]\n<NDArray 4x10 @cpu(0)>"
      ]
     },
     "execution_count": 4,
     "metadata": {},
     "output_type": "execute_result"
    }
   ],
   "source": [
    "net2 = MLP()\n",
    "print(net2)\n",
    "net2.initialize()\n",
    "x = nd.random_uniform(shape=(4,20))\n",
    "y = net2(x)\n",
    "y"
   ]
  },
  {
   "cell_type": "markdown",
   "metadata": {},
   "source": [
    "下面仔细看一下 MLP 里面用的其他命令：\n",
    "- super(MLP, self).__init__(**kwargs): 这句话调用的 nn.Block 的 __init__ 函数，它提供了 prefix（指定名字）和 params（指定模型参数）两个参数。\n",
    "- self.name_scope(): 调用 nn.Block 提供的 name_scope 函数。作用是给里面的所有层和参数的名字上加上前缀（prefix),使得他们在系统里面是独一无二的，默认自动会生成前缀，我们也可以在创建的时候手动指定。推在在构建网络的时候，每个层至少在一个 name_scope 里面"
   ]
  },
  {
   "cell_type": "code",
   "execution_count": 5,
   "metadata": {},
   "outputs": [
    {
     "name": "stdout",
     "output_type": "stream",
     "text": [
      "default prefix: mlp1_dense0\ncustomized prefixed: another_mlp_dense0\n"
     ]
    }
   ],
   "source": [
    "print('default prefix:', net2.dense0.name)\n",
    "\n",
    "net3 = MLP(prefix='another_mlp_')\n",
    "print('customized prefixed:', net3.dense0.name)"
   ]
  },
  {
   "cell_type": "markdown",
   "metadata": {},
   "source": [
    "## nn.Block 到底是什么？\n",
    "在 gluon 里面，nn.Block 是一个一般化的部件。整个神经网络可以是一个 nn.Block, 单个层也是一个 nn.Block。我们可以（近似）无限的嵌套 nn.Block 来构建新的 nn.Block\n",
    "\n",
    "nn.Block 主要提供下面这些内容：\n",
    "1. 存储参数\n",
    "2. 描述 forward 如何执行\n",
    "3. 自动求导"
   ]
  },
  {
   "cell_type": "code",
   "execution_count": 5,
   "metadata": {},
   "outputs": [],
   "source": []
  },
  {
   "cell_type": "code",
   "execution_count": 5,
   "metadata": {},
   "outputs": [],
   "source": []
  },
  {
   "cell_type": "code",
   "execution_count": 5,
   "metadata": {},
   "outputs": [],
   "source": []
  },
  {
   "cell_type": "code",
   "execution_count": 5,
   "metadata": {},
   "outputs": [],
   "source": []
  },
  {
   "cell_type": "code",
   "execution_count": 5,
   "metadata": {},
   "outputs": [],
   "source": []
  },
  {
   "cell_type": "code",
   "execution_count": 5,
   "metadata": {},
   "outputs": [],
   "source": []
  },
  {
   "cell_type": "code",
   "execution_count": 5,
   "metadata": {},
   "outputs": [],
   "source": []
  },
  {
   "cell_type": "code",
   "execution_count": 5,
   "metadata": {},
   "outputs": [],
   "source": []
  },
  {
   "cell_type": "code",
   "execution_count": null,
   "metadata": {},
   "outputs": [],
   "source": []
  }
 ],
 "metadata": {
  "kernelspec": {
   "display_name": "Python 2",
   "language": "python",
   "name": "python2"
  },
  "language_info": {
   "codemirror_mode": {
    "name": "ipython",
    "version": 2
   },
   "file_extension": ".py",
   "mimetype": "text/x-python",
   "name": "python",
   "nbconvert_exporter": "python",
   "pygments_lexer": "ipython2",
   "version": "2.7.6"
  }
 },
 "nbformat": 4,
 "nbformat_minor": 0
}
