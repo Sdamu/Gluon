{
 "cells": [
  {
   "cell_type": "markdown",
   "metadata": {
    "collapsed": true
   },
   "source": [
    "# 序列化 --- 读写模型"
   ]
  },
  {
   "cell_type": "markdown",
   "metadata": {},
   "source": [
    "## 读写 NDArrays\n",
    "首先看一下如何读写 NDArray。"
   ]
  },
  {
   "cell_type": "code",
   "execution_count": 3,
   "metadata": {},
   "outputs": [
    {
     "name": "stdout",
     "output_type": "stream",
     "text": [
      "\n[1. 1. 1.]\n<NDArray 3 @cpu(0)> \n[0. 0. 0. 0.]\n<NDArray 4 @cpu(0)>\n{'x': \n[1. 1. 1.]\n<NDArray 3 @cpu(0)>, 'y': \n[0. 0. 0. 0.]\n<NDArray 4 @cpu(0)>}\n"
     ]
    }
   ],
   "source": [
    "from mxnet import nd\n",
    "\n",
    "x = nd.ones(3)\n",
    "y = nd.zeros(4)\n",
    "filename = \"test1.params\"\n",
    "# 存下模型\n",
    "nd.save(filename, [x, y])\n",
    "\n",
    "# 读取模型\n",
    "a,b = nd.load(filename)\n",
    "print(a, b)\n",
    "\n",
    "# 用来读写单个的 NDArray list,dict 也是可以的\n",
    "my_dict = {\"x\":x,\"y\":y}\n",
    "filename = \"test2.params\"\n",
    "nd.save(filename, my_dict)\n",
    "\n",
    "c = nd.load(filename)\n",
    "print(c)"
   ]
  },
  {
   "cell_type": "markdown",
   "metadata": {},
   "source": [
    "## 读写 Gluon 模型的参数\n",
    "与 NDArray 类似，Gluon 的模型（也就是 nn.block）提供了便利的 save_params 和 load_params 函数来读写数据。和前面一样传建一个简单的多层感知机。\n"
   ]
  },
  {
   "cell_type": "code",
   "execution_count": 5,
   "metadata": {},
   "outputs": [
    {
     "name": "stdout",
     "output_type": "stream",
     "text": [
      "\n[[ 0.00205935 -0.00979935]\n [ 0.00107034 -0.00423382]]\n<NDArray 2x2 @cpu(0)>\n"
     ]
    }
   ],
   "source": [
    "from mxnet.gluon import nn\n",
    "\n",
    "def get_net():\n",
    "    net = nn.Sequential()\n",
    "    with net.name_scope():\n",
    "        net.add(\n",
    "            nn.Dense(10, activation='relu'),\n",
    "            nn.Dense(2)\n",
    "        )\n",
    "    return net\n",
    "\n",
    "net = get_net()\n",
    "net.initialize()\n",
    "x = nd.random_uniform(shape=(2, 10))\n",
    "print(net(x))"
   ]
  },
  {
   "cell_type": "code",
   "execution_count": 8,
   "metadata": {},
   "outputs": [
    {
     "name": "stdout",
     "output_type": "stream",
     "text": [
      "\n[[ 0.00205935 -0.00979935]\n [ 0.00107034 -0.00423382]]\n<NDArray 2x2 @cpu(0)>\n"
     ]
    }
   ],
   "source": [
    "import mxnet\n",
    "# 首先将模型参数存起来\n",
    "filename = \"mlp.params\"\n",
    "net.save_params(filename)\n",
    "\n",
    "# 然后穿件一个一样的多层感知机，但是不像前面那样随机初始化，我们直接读取前面的模型参数，\n",
    "# 新的模型应该会输出同样的结果。\n",
    "net2 = get_net()\n",
    "net2.load_params(filename, mxnet.cpu())\n",
    "print(net2(x))\n"
   ]
  },
  {
   "cell_type": "code",
   "execution_count": 1,
   "metadata": {},
   "outputs": [],
   "source": []
  },
  {
   "cell_type": "code",
   "execution_count": 1,
   "metadata": {},
   "outputs": [],
   "source": []
  },
  {
   "cell_type": "code",
   "execution_count": 1,
   "metadata": {},
   "outputs": [],
   "source": []
  },
  {
   "cell_type": "code",
   "execution_count": 1,
   "metadata": {},
   "outputs": [],
   "source": []
  },
  {
   "cell_type": "code",
   "execution_count": 1,
   "metadata": {},
   "outputs": [],
   "source": []
  },
  {
   "cell_type": "code",
   "execution_count": 1,
   "metadata": {},
   "outputs": [],
   "source": []
  },
  {
   "cell_type": "code",
   "execution_count": 1,
   "metadata": {},
   "outputs": [],
   "source": []
  },
  {
   "cell_type": "code",
   "execution_count": null,
   "metadata": {},
   "outputs": [],
   "source": []
  }
 ],
 "metadata": {
  "kernelspec": {
   "display_name": "Python 2",
   "language": "python",
   "name": "python2"
  },
  "language_info": {
   "codemirror_mode": {
    "name": "ipython",
    "version": 2
   },
   "file_extension": ".py",
   "mimetype": "text/x-python",
   "name": "python",
   "nbconvert_exporter": "python",
   "pygments_lexer": "ipython2",
   "version": "2.7.6"
  }
 },
 "nbformat": 4,
 "nbformat_minor": 0
}
